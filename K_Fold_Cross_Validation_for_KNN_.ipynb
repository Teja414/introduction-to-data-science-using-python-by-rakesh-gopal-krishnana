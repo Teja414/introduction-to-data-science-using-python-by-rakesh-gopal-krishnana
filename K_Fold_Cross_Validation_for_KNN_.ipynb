{
  "nbformat": 4,
  "nbformat_minor": 0,
  "metadata": {
    "colab": {
      "provenance": []
    },
    "kernelspec": {
      "name": "python3",
      "display_name": "Python 3"
    },
    "language_info": {
      "name": "python"
    }
  },
  "cells": [
    {
      "cell_type": "code",
      "execution_count": 3,
      "metadata": {
        "id": "Er6bNr6tzjTS"
      },
      "outputs": [],
      "source": [
        "from sklearn.neighbors import KNeighborsClassifier\n",
        "knn5 = KNeighborsClassifier()"
      ]
    },
    {
      "cell_type": "code",
      "source": [
        "from sklearn.datasets import load_iris\n",
        "data = load_iris()"
      ],
      "metadata": {
        "id": "5jEAUvLa0OQW"
      },
      "execution_count": 4,
      "outputs": []
    },
    {
      "cell_type": "code",
      "source": [
        "X = data.data\n",
        "y = data.target"
      ],
      "metadata": {
        "id": "bey13Jtt0nh5"
      },
      "execution_count": 6,
      "outputs": []
    },
    {
      "cell_type": "code",
      "source": [
        "from sklearn.model_selection import train_test_split\n",
        "X_train,X_test,y_train,y_test = train_test_split(X,y,test_size=0.3)\n",
        "from sklearn.model_selection import cross_val_score"
      ],
      "metadata": {
        "id": "8xpTqw0O0V-E"
      },
      "execution_count": 8,
      "outputs": []
    },
    {
      "cell_type": "code",
      "source": [
        "scores = cross_val_score(knn5,X,y,cv=10,scoring=\"accuracy\")"
      ],
      "metadata": {
        "id": "X8vQ3glj1H9G"
      },
      "execution_count": 10,
      "outputs": []
    },
    {
      "cell_type": "code",
      "source": [
        "print(scores)"
      ],
      "metadata": {
        "colab": {
          "base_uri": "https://localhost:8080/"
        },
        "id": "5t1rdaQ41a_1",
        "outputId": "834b644a-27a3-4e92-f536-4dcbf00283ff"
      },
      "execution_count": 11,
      "outputs": [
        {
          "output_type": "stream",
          "name": "stdout",
          "text": [
            "[1.         0.93333333 1.         1.         0.86666667 0.93333333\n",
            " 0.93333333 1.         1.         1.        ]\n"
          ]
        }
      ]
    },
    {
      "cell_type": "code",
      "source": [
        "scores.mean()"
      ],
      "metadata": {
        "colab": {
          "base_uri": "https://localhost:8080/"
        },
        "id": "8nQ2g-bQ1xGH",
        "outputId": "5679c395-18a9-42ad-b6be-da38051b1246"
      },
      "execution_count": 12,
      "outputs": [
        {
          "output_type": "execute_result",
          "data": {
            "text/plain": [
              "0.9666666666666668"
            ]
          },
          "metadata": {},
          "execution_count": 12
        }
      ]
    },
    {
      "cell_type": "code",
      "source": [
        "ii = [i for i in range(len(scores))]"
      ],
      "metadata": {
        "id": "2WZNEAPa4CzD"
      },
      "execution_count": 32,
      "outputs": []
    },
    {
      "cell_type": "code",
      "source": [
        "from matplotlib import pyplot as plt"
      ],
      "metadata": {
        "id": "xKMuTSjh2c_C"
      },
      "execution_count": 13,
      "outputs": []
    },
    {
      "cell_type": "code",
      "source": [
        "plt.axis([0,20,0,20])\n",
        "plt.title(\"scores of k fold validation on knn 5\")\n",
        "plt.plot(ii,scores)"
      ],
      "metadata": {
        "colab": {
          "base_uri": "https://localhost:8080/",
          "height": 298
        },
        "id": "RwPzKpYR2iEX",
        "outputId": "9f4bf0fe-89ac-416a-f485-46ce05827dd4"
      },
      "execution_count": 34,
      "outputs": [
        {
          "output_type": "execute_result",
          "data": {
            "text/plain": [
              "[<matplotlib.lines.Line2D at 0x7f367bde7550>]"
            ]
          },
          "metadata": {},
          "execution_count": 34
        },
        {
          "output_type": "display_data",
          "data": {
            "text/plain": [
              "<Figure size 432x288 with 1 Axes>"
            ],
            "image/png": "[encoded data removed]"
          },
          "metadata": {
            "needs_background": "light"
          }
        }
      ]
    },
    {
      "cell_type": "code",
      "source": [
        "k_range = range(1,45)\n",
        "k_range"
      ],
      "metadata": {
        "colab": {
          "base_uri": "https://localhost:8080/"
        },
        "id": "KaT002g63uU3",
        "outputId": "72fe5802-8606-4eec-d234-d6e2e98f783f"
      },
      "execution_count": 36,
      "outputs": [
        {
          "output_type": "execute_result",
          "data": {
            "text/plain": [
              "range(1, 45)"
            ]
          },
          "metadata": {},
          "execution_count": 36
        }
      ]
    },
    {
      "cell_type": "code",
      "source": [
        "k_scores = []\n",
        "for i in k_range:\n",
        "  knn = KNeighborsClassifier(n_neighbors = i)\n",
        "  scores = cross_val_score(knn,X,y,cv=10,scoring='accuracy')\n",
        "  k_scores.append(scores.mean())\n",
        "k_scores"
      ],
      "metadata": {
        "colab": {
          "base_uri": "https://localhost:8080/"
        },
        "id": "5g8u5vnd52Wc",
        "outputId": "37a12180-13d3-45ab-c63a-57c8317afa44"
      },
      "execution_count": 38,
      "outputs": [
        {
          "output_type": "execute_result",
          "data": {
            "text/plain": [
              "[0.96,\n",
              " 0.9533333333333334,\n",
              " 0.9666666666666666,\n",
              " 0.9666666666666666,\n",
              " 0.9666666666666668,\n",
              " 0.9666666666666668,\n",
              " 0.9666666666666668,\n",
              " 0.9666666666666668,\n",
              " 0.9733333333333334,\n",
              " 0.9666666666666668,\n",
              " 0.9666666666666668,\n",
              " 0.9733333333333334,\n",
              " 0.9800000000000001,\n",
              " 0.9733333333333334,\n",
              " 0.9733333333333334,\n",
              " 0.9733333333333334,\n",
              " 0.9733333333333334,\n",
              " 0.9800000000000001,\n",
              " 0.9733333333333334,\n",
              " 0.9800000000000001,\n",
              " 0.9666666666666666,\n",
              " 0.9666666666666666,\n",
              " 0.9733333333333334,\n",
              " 0.96,\n",
              " 0.9666666666666666,\n",
              " 0.96,\n",
              " 0.9666666666666666,\n",
              " 0.9533333333333334,\n",
              " 0.9533333333333334,\n",
              " 0.9533333333333334,\n",
              " 0.9466666666666667,\n",
              " 0.9466666666666667,\n",
              " 0.9466666666666667,\n",
              " 0.9466666666666667,\n",
              " 0.9466666666666667,\n",
              " 0.9466666666666667,\n",
              " 0.9466666666666667,\n",
              " 0.9466666666666667,\n",
              " 0.9533333333333334,\n",
              " 0.9533333333333334,\n",
              " 0.9533333333333334,\n",
              " 0.9533333333333334,\n",
              " 0.9466666666666667,\n",
              " 0.9400000000000001]"
            ]
          },
          "metadata": {},
          "execution_count": 38
        }
      ]
    },
    {
      "cell_type": "code",
      "source": [
        "plt.plot(k_range,k_scores)\n",
        "plt.xlabel(\"different n values\")\n",
        "plt.ylabel(\"mean cross val scores\")\n",
        "plt.title(\"k fold cross validation\")"
      ],
      "metadata": {
        "colab": {
          "base_uri": "https://localhost:8080/",
          "height": 312
        },
        "id": "6NGlb6xk6Rtf",
        "outputId": "637dd464-dfac-4ece-b064-afe2174c3435"
      },
      "execution_count": 42,
      "outputs": [
        {
          "output_type": "execute_result",
          "data": {
            "text/plain": [
              "Text(0.5, 1.0, 'k fold cross validation')"
            ]
          },
          "metadata": {},
          "execution_count": 42
        },
        {
          "output_type": "display_data",
          "data": {
            "text/plain": [
              "<Figure size 432x288 with 1 Axes>"
            ],
            "image/png": "[encoded data removed]"
          },
          "metadata": {
            "needs_background": "light"
          }
        }
      ]
    }
  ]
}